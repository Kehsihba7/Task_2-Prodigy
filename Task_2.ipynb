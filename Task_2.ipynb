{
  "nbformat": 4,
  "nbformat_minor": 0,
  "metadata": {
    "colab": {
      "provenance": []
    },
    "kernelspec": {
      "name": "python3",
      "display_name": "Python 3"
    },
    "language_info": {
      "name": "python"
    }
  },
  "cells": [
    {
      "cell_type": "code",
      "execution_count": 10,
      "metadata": {
        "colab": {
          "base_uri": "https://localhost:8080/"
        },
        "id": "NA5v82tuq3L2",
        "outputId": "0cd61a1a-af08-436e-8bb1-2454bd2cf19c"
      },
      "outputs": [
        {
          "output_type": "stream",
          "name": "stdout",
          "text": [
            "Image encrypted successfully!\n",
            "Image decrypted successfully!\n"
          ]
        }
      ],
      "source": [
        "from PIL import Image\n",
        "\n",
        "def encrypt_image(image_path, key):\n",
        "    \"\"\"\n",
        "    Encrypts the image using a simple XOR operation with the provided key.\n",
        "    \"\"\"\n",
        "    img = Image.open(\"/content/Screenshot.png\")\n",
        "    width, height = img.size\n",
        "    pixels = img.load()\n",
        "\n",
        "    # Convert key to bytes\n",
        "    key_bytes = bytes(key, 'utf-8')\n",
        "\n",
        "    for y in range(height):\n",
        "        for x in range(width):\n",
        "            # Get the RGB values of the pixel\n",
        "            r, g, b, a = pixels[x, y]\n",
        "\n",
        "            # XOR operation with key\n",
        "            r ^= key_bytes[0]\n",
        "            g ^= key_bytes[1]\n",
        "            b ^= key_bytes[2]\n",
        "\n",
        "            # Update the pixel value\n",
        "            pixels[x, y] = (r, g, b)\n",
        "\n",
        "    # Save the encrypted image\n",
        "    img.save(\"encrypted_image.png\")\n",
        "    print(\"Image encrypted successfully!\")\n",
        "\n",
        "def decrypt_image(encrypted_image_path, key):\n",
        "    \"\"\"\n",
        "    Decrypts the encrypted image using the same key.\n",
        "    \"\"\"\n",
        "    img = Image.open(encrypted_image_path)\n",
        "    width, height = img.size\n",
        "    pixels = img.load()\n",
        "\n",
        "    # Convert key to bytes\n",
        "    key_bytes = bytes(key, 'utf-8')\n",
        "\n",
        "    for y in range(height):\n",
        "        for x in range(width):\n",
        "            # Get the RGB values of the pixel\n",
        "            r, g, b, a = pixels[x, y]\n",
        "\n",
        "            # XOR operation with key\n",
        "            r ^= key_bytes[0]\n",
        "            g ^= key_bytes[1]\n",
        "            b ^= key_bytes[2]\n",
        "\n",
        "            # Update the pixel value\n",
        "            pixels[x, y] = (r, g, b)\n",
        "\n",
        "\n",
        "    img.save(\"decrypted_image.png\")\n",
        "    print(\"Image decrypted successfully!\")\n",
        "\n",
        "image_path = \"original_image.png\"\n",
        "encryption_key = \"my_secret_key\"\n",
        "\n",
        "encrypt_image(image_path, encryption_key)\n",
        "\n",
        "decrypt_image(\"encrypted_image.png\", encryption_key)\n"
      ]
    }
  ]
}